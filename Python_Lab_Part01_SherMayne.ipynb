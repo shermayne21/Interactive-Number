{
 "cells": [
  {
   "cell_type": "markdown",
   "id": "d19aa877-71d0-4c60-a111-9c8f2475819b",
   "metadata": {},
   "source": [
    "### ANA-522-OL1 Summer21 \n",
    "### Mod01 Lab: Python Part I\n",
    "### Due: Friday May 28th at midnight"
   ]
  },
  {
   "cell_type": "markdown",
   "id": "77257844-44a6-4399-8725-c7ceb0152f65",
   "metadata": {},
   "source": [
    "## Mod01_Lab 1: Mailing Address\n",
    "Create a program that displays your name and complete mailing address formatted in the manner that you would usually see it on the outside of an envelope. Your program does not need to read any input from the user."
   ]
  },
  {
   "cell_type": "code",
   "execution_count": 2,
   "id": "91a70261",
   "metadata": {},
   "outputs": [
    {
     "name": "stdout",
     "output_type": "stream",
     "text": [
      "Sher Mayne Lee\n",
      "1200 W Univeristy Drive\n",
      "Tempe, AZ 85281\n"
     ]
    }
   ],
   "source": [
    "print(\"Sher Mayne Lee\")\n",
    "print(\"1200 W Univeristy Drive\")\n",
    "print(\"Tempe, AZ 85281\")"
   ]
  },
  {
   "cell_type": "markdown",
   "id": "54a62c78-c72c-4e64-830b-e0cc48651dd7",
   "metadata": {},
   "source": [
    "## Mod01_Lab 2: Area of a Room\n",
    "Write a program that asks the user to enter the width and length of a room. Once\n",
    "the values have been read, your program should compute and display the area of the\n",
    "room. The length and the width will be entered as floating point numbers. Include\n",
    "units in your prompt and output message; either feet or meters, depending on which\n",
    "unit you are more comfortable working with."
   ]
  },
  {
   "cell_type": "code",
   "execution_count": 3,
   "id": "5a0c3fb0",
   "metadata": {},
   "outputs": [
    {
     "name": "stdout",
     "output_type": "stream",
     "text": [
      "Your name: wikk\n",
      "Hello  wikk !\n",
      "Enter the width of the room (in feet): 20\n",
      "Enter the length of the room (in feet): 10\n",
      "The area of the room is 200.0 sqft.\n"
     ]
    }
   ],
   "source": [
    "username = input(\"Your name: \")\n",
    "print(\"Hello \",username,\"!\")\n",
    "width = float(input(\"Enter the width of the room (in feet): \"))\n",
    "length = float(input(\"Enter the length of the room (in feet): \"))\n",
    "area = width*length\n",
    "print (\"The area of the room is\", area,\"sqft.\")"
   ]
  },
  {
   "cell_type": "markdown",
   "id": "d2314695-2b2b-4d14-89ac-46bc0137e56e",
   "metadata": {},
   "source": [
    "## Mod01_Lab 3: Arithmetic (Scalar Types)\n",
    "Create a program that reads two integers, a and b, from the user.Your program should\n",
    "compute and display:  \n",
    "\n",
    "+ The sum of a and b\n",
    "+ The difference when b is subtracted from a\n",
    "+ The product of a and b\n",
    "+ The quotient when a is divided by b\n",
    "+ The remainder when a is divided by b\n",
    "+ The result of $a^b$"
   ]
  },
  {
   "cell_type": "code",
   "execution_count": 4,
   "id": "44128f57",
   "metadata": {},
   "outputs": [
    {
     "name": "stdout",
     "output_type": "stream",
     "text": [
      "Enter the first number (a): 1\n",
      "Enter the second number (b):2\n",
      "The sum of a and b is 3\n",
      "The difference when b is subtracted from a is 1\n",
      "The product of a and b is 2\n",
      "The quotient when a is divided by b is 0.5\n",
      "The remainder when a is divided by b is 1\n",
      "The result of a and b is 1\n"
     ]
    }
   ],
   "source": [
    "a = int(input(\"Enter the first number (a): \"))\n",
    "b = int(input(\"Enter the second number (b):\"))\n",
    "print(\"The sum of a and b is\", a+b)\n",
    "print(\"The difference when b is subtracted from a is\", b-a)\n",
    "print(\"The product of a and b is\", a*b)\n",
    "print(\"The quotient when a is divided by b is\", a/b)\n",
    "print(\"The remainder when a is divided by b is\", a%b)\n",
    "print(\"The result of a and b is\",a**b)"
   ]
  },
  {
   "cell_type": "markdown",
   "id": "0ee8caac-eb6f-4b89-ab46-fcc516d88222",
   "metadata": {},
   "source": [
    "## Mod01_Lab 4: Even or Odd?\n",
    "Write a program that reads an integer from the user. Then your program should\n",
    "display a message indicating whether the integer is even or odd."
   ]
  },
  {
   "cell_type": "code",
   "execution_count": 5,
   "id": "6a9fdbdb",
   "metadata": {},
   "outputs": [
    {
     "name": "stdout",
     "output_type": "stream",
     "text": [
      "Enter an integer: 55\n",
      "The number 55 is an odd number.\n"
     ]
    }
   ],
   "source": [
    "n = int(input(\"Enter an integer: \"))\n",
    "print(\"The number\", n, \"is an\", end=\" \")\n",
    "if n%2 == 0:\n",
    "    print(\"even number.\")\n",
    "else:\n",
    "    print(\"odd number.\")"
   ]
  },
  {
   "cell_type": "markdown",
   "id": "bd6db82c-b5b9-4129-aa2c-aaba3f52adc8",
   "metadata": {},
   "source": [
    "## Mod01_Lab 5:Vowel or Consonant\n",
    "\n",
    "In this exercise you will create a program that reads a letter of the alphabet from the\n",
    "user. If the user enters a, e, i, o or u then your program should display a message\n",
    "indicating that the entered letter is a vowel. If the user enters y then your program\n",
    "should display a message indicating that sometimes y is a vowel, and sometimes y is\n",
    "a consonant. Otherwise your program should display a message indicating that the\n",
    "letter is a consonant."
   ]
  },
  {
   "cell_type": "code",
   "execution_count": 6,
   "id": "f17cf46c",
   "metadata": {},
   "outputs": [
    {
     "name": "stdout",
     "output_type": "stream",
     "text": [
      "Enter a letter: t\n",
      "The letter t is a consonant.\n"
     ]
    }
   ],
   "source": [
    "l = (input(\"Enter a letter: \"))\n",
    "print('The letter', l, \"is a\", end=\" \")\n",
    "if l in ('a', 'e', 'i', 'o', 'u'):\n",
    "    print(\"vowel.\")\n",
    "else:\n",
    "    print(\"consonant.\")\n"
   ]
  },
  {
   "cell_type": "markdown",
   "id": "e7a13983-4716-49e8-a3d1-bdf71076ecaf",
   "metadata": {},
   "source": [
    "## Mod01_Lab 6: Average\n",
    "In this exercise you will create a program that computes the average of a collection\n",
    "of values entered by the user. The user will enter 0 as a sentinel value to indicate\n",
    "that no further values will be provided. Your program should display an appropriate\n",
    "error message if the first value entered by the user is 0.  \n",
    ">Hint: Because the 0 marks the end of the input it should not be included in the\n",
    "average."
   ]
  },
  {
   "cell_type": "code",
   "execution_count": 7,
   "id": "bb688d8e",
   "metadata": {},
   "outputs": [
    {
     "name": "stdout",
     "output_type": "stream",
     "text": [
      "Please enter values to compute the average. Enter 0 as the value when ready.\n",
      "Enter value: 6\n",
      "Enter value: 7\n",
      "Enter value: 8\n",
      "Enter value: 0\n",
      "End of input.\n",
      "The average is  7.0\n"
     ]
    }
   ],
   "source": [
    "print(\"Please enter values to compute the average. Enter 0 as the value when ready.\")\n",
    "sum = 0.0\n",
    "count = 0\n",
    "while(1):\n",
    "    x=int(input(\"Enter value: \"))\n",
    "    if x == 0:\n",
    "        print(\"End of input.\")\n",
    "        break;\n",
    "    sum+=x;\n",
    "    count+=1;\n",
    "if count == 0:\n",
    "    print(\"Error. Please enter values to compute the average.\")\n",
    "else:\n",
    "    avg = sum/count;\n",
    "    print(\"The average is \",avg)"
   ]
  },
  {
   "cell_type": "markdown",
   "id": "fe59c334",
   "metadata": {},
   "source": [
    "## Mod01_Lab 7: Multiplication Table\n",
    "In this exercise you will create a program that displays a multiplication table that\n",
    "shows the products of all combinations of integers from 1 times 1 up to and including\n",
    "10 times 10. Your multiplication table should include a row of labels across the top\n",
    "of it containing the numbers 1 through 10. It should also include labels down the left\n",
    "side consisting of the numbers 1 through 10. The expected output from the program\n",
    "is shown below:\n",
    "\n",
    "![Multiplication table](ANA522/mod01/img/multiplytable.png)\n",
    "\n",
    "When completing this exercise you will probably find it helpful to be able to print out a value without moving down to the next line. This can be accomplished by added end=\"\" as the last parameter to your print statement. For example, print(\"A\") will display the letter A and then move down to the next line. The statement print(\"A\", end=\"\") will display the letter A without moving down to the next line, causing the next print statement to display its result on the same line as the letter A.\n",
    "\n",
    ">Hint: Use range() function to easily generate a list of numbers from 1 to 10 in order.\n",
    "    "
   ]
  },
  {
   "cell_type": "code",
   "execution_count": 135,
   "id": "a5da38db",
   "metadata": {},
   "outputs": [
    {
     "name": "stdout",
     "output_type": "stream",
     "text": [
      "        1    2    3    4    5    6    7    8    9   10 \n",
      "   1    1    2    3    4    5    6    7    8    9   10 \n",
      "   2    2    4    6    8   10   12   14   16   18   20 \n",
      "   3    3    6    9   12   15   18   21   24   27   30 \n",
      "   4    4    8   12   16   20   24   28   32   36   40 \n",
      "   5    5   10   15   20   25   30   35   40   45   50 \n",
      "   6    6   12   18   24   30   36   42   48   54   60 \n",
      "   7    7   14   21   28   35   42   49   56   63   70 \n",
      "   8    8   16   24   32   40   48   56   64   72   80 \n",
      "   9    9   18   27   36   45   54   63   72   81   90 \n",
      "  10   10   20   30   40   50   60   70   80   90  100 \n"
     ]
    }
   ],
   "source": [
    "print ('{:>4}'.format(' '), end= ' ')\n",
    "for x in range(1, 11):\n",
    " print('{:>4}'.format(x), end=' ')\n",
    "print()\n",
    "for x in range(1,11):\n",
    " print('{:>4}'.format(x), end=' ')\n",
    " while y <= 10:\n",
    "  print('{:>4}'.format(x * y), end=' ')\n",
    "  y+=1\n",
    " print()\n",
    " y=1"
   ]
  }
 ],
 "metadata": {
  "kernelspec": {
   "display_name": "ANA522 (default)",
   "language": "python",
   "name": "ada522"
  },
  "language_info": {
   "codemirror_mode": {
    "name": "ipython",
    "version": 3
   },
   "file_extension": ".py",
   "mimetype": "text/x-python",
   "name": "python",
   "nbconvert_exporter": "python",
   "pygments_lexer": "ipython3",
   "version": "3.8.5"
  }
 },
 "nbformat": 4,
 "nbformat_minor": 5
}
